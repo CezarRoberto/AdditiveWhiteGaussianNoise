{
 "cells": [
  {
   "attachments": {},
   "cell_type": "markdown",
   "metadata": {},
   "source": [
    "# Signal Generation"
   ]
  },
  {
   "cell_type": "code",
   "execution_count": null,
   "metadata": {},
   "outputs": [],
   "source": [
    "# matplotlib inline\n",
    "\n",
    "import numpy as np\n",
    "import matplotlib.pyplot as plt\n",
    "\n",
    "t = np.linspace(1, 100, 1000)\n",
    "x_volts = 10*np.sin(t/(2*np.pi))\n",
    "plt.subplot(3,1,1)\n",
    "plt.plot(t, x_volts)\n",
    "plt.title('Signal')\n",
    "plt.ylabel('Voltage (V)')\n",
    "plt.xlabel('Time (s)')\n",
    "plt.show()\n",
    "\n",
    "x_watts = x_volts ** 2\n",
    "plt.subplot(3,1,2)\n",
    "plt.plot(t, x_watts)\n",
    "plt.title('Signal Power')\n",
    "plt.ylabel('Power (W)')\n",
    "plt.xlabel('Time (s)')\n",
    "plt.show()\n",
    "\n",
    "x_db = 10 * np.log10(x_watts)\n",
    "plt.subplot(3,1,3)\n",
    "plt.plot(t, x_db)\n",
    "plt.title('Signal Power in dB')\n",
    "plt.ylabel('Power (dB)')\n",
    "plt.xlabel('Time (s)')\n",
    "plt.show()"
   ]
  },
  {
   "attachments": {},
   "cell_type": "markdown",
   "metadata": {},
   "source": [
    "## adding AWGN based on a desired SNR:"
   ]
  },
  {
   "cell_type": "code",
   "execution_count": null,
   "metadata": {},
   "outputs": [],
   "source": [
    "# Adding noise using target SNR\n",
    "\n",
    "# Set a target SNR\n",
    "target_snr_db = 20\n",
    "# Calculate signal power and convert to dB \n",
    "sig_avg_watts = np.mean(x_watts)\n",
    "sig_avg_db = 10 * np.log10(sig_avg_watts)\n",
    "# Calculate noise according to [2] then convert to watts\n",
    "noise_avg_db = sig_avg_db - target_snr_db\n",
    "noise_avg_watts = 10 ** (noise_avg_db / 10)\n",
    "# Generate an sample of white noise\n",
    "mean_noise = 0\n",
    "noise_volts = np.random.normal(mean_noise, np.sqrt(noise_avg_watts), len(x_watts))\n",
    "# Noise up the original signal\n",
    "y_volts = x_volts + noise_volts\n",
    "\n",
    "# Plot signal with noise\n",
    "plt.subplot(2,1,1)\n",
    "plt.plot(t, y_volts)\n",
    "plt.title('Signal with noise')\n",
    "plt.ylabel('Voltage (V)')\n",
    "plt.xlabel('Time (s)')\n",
    "plt.show()\n",
    "# Plot in dB\n",
    "y_watts = y_volts ** 2\n",
    "y_db = 10 * np.log10(y_watts)\n",
    "plt.subplot(2,1,2)\n",
    "plt.plot(t, 10* np.log10(y_volts**2))\n",
    "plt.title('Signal with noise (dB)')\n",
    "plt.ylabel('Power (dB)')\n",
    "plt.xlabel('Time (s)')\n",
    "plt.show()"
   ]
  },
  {
   "attachments": {},
   "cell_type": "markdown",
   "metadata": {},
   "source": [
    "### In practical situations, when you aim to replicate a signal with white noise, it is necessary to incorporate random data points following a Normal Gaussian distribution into the signal. Considering a device's sensitivity measured in units per square root of hertz (unit/SQRT(Hz)), you must determine the standard deviation of these data points based on the device's specifications. To simplify this process, I have provided a function called \"white_noise\" that handles the generation of these points for you. The subsequent code segment serves as a demonstration and verification of its functionality."
   ]
  },
  {
   "cell_type": "code",
   "execution_count": null,
   "metadata": {},
   "outputs": [],
   "source": [
    "def white_noise(signal, sensitivity):\n",
    "    # Calculate the standard deviation based on sensitivity\n",
    "    standard_deviation = signal / sensitivity\n",
    "    \n",
    "    # Generate random data points following a Normal Gaussian distribution\n",
    "    noise = np.random.normal(0, standard_deviation, len(signal))\n",
    "    \n",
    "    # Add the noise to the signal\n",
    "    noisy_signal = signal + noise\n",
    "    \n",
    "    return noisy_signal\n",
    "\n",
    "rho = 1 \n",
    "sr = 1000\n",
    "n = 1000\n",
    "period = n/sr\n",
    "time = np.linspace(0, period, n)\n",
    "signal_pure = 100*np.sin(2*np.pi*13*time)\n",
    "noise = white_noise(rho, sr, n)\n",
    "signal_with_noise = signal_pure + noise\n",
    "\n",
    "f, psd = signal.periodogram(signal_with_noise, sr)\n",
    "\n",
    "print(\"Mean spectral noise density = \",np.sqrt(np.mean(psd[50:])), \"arb.u/SQRT(Hz)\")\n",
    "\n",
    "plt.plot(time, signal_with_noise)\n",
    "plt.plot(time, signal_pure)\n",
    "plt.xlabel(\"time (s)\")\n",
    "plt.ylabel(\"signal (arb.u.)\")\n",
    "plt.show()\n",
    "\n",
    "plt.semilogy(f[1:], np.sqrt(psd[1:]))\n",
    "plt.xlabel(\"frequency (Hz)\")\n",
    "plt.ylabel(\"psd (arb.u./SQRT(Hz))\")\n",
    "#plt.axvline(13, ls=\"dashed\", color=\"g\")\n",
    "plt.axhline(rho, ls=\"dashed\", color=\"r\")\n",
    "plt.show()"
   ]
  }
 ],
 "metadata": {
  "kernelspec": {
   "display_name": "Python 3",
   "language": "python",
   "name": "python3"
  },
  "language_info": {
   "codemirror_mode": {
    "name": "ipython",
    "version": 3
   },
   "file_extension": ".py",
   "mimetype": "text/x-python",
   "name": "python",
   "nbconvert_exporter": "python",
   "pygments_lexer": "ipython3",
   "version": "3.11.3"
  },
  "orig_nbformat": 4
 },
 "nbformat": 4,
 "nbformat_minor": 2
}
